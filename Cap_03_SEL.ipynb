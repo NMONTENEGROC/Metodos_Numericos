{
 "cells": [
  {
   "cell_type": "markdown",
   "metadata": {},
   "source": [
    "![Logo_unad](https://upload.wikimedia.org/wikipedia/commons/5/5f/Logo_unad.png)\n",
    "\n",
    "<font size=3 color=\"midnightblue\" face=\"arial\">\n",
    "<h1 align=\"center\">Escuela de Ciencias Básicas, Tecnología e Ingeniería</h1>\n",
    "</font>\n",
    "\n",
    "<font size=3 color=\"navy\" face=\"arial\">\n",
    "<h1 align=\"center\">ECBTI</h1>\n",
    "</font>\n",
    "\n",
    "<font size=2 color=\"darkorange\" face=\"arial\">\n",
    "<h1 align=\"center\">Curso: Métodos Numéricos</h1>\n",
    "</font>\n",
    "\n",
    "<font size=2 color=\"midnightblue\" face=\"arial\">\n",
    "<h1 align=\"center\">Unidad 3 - Sistemas de Ecuaciones Lineales e Interpolación Numérica</h1>\n",
    "</font>\n",
    "\n",
    "<font size=1 color=\"darkorange\" face=\"arial\">\n",
    "<h1 align=\"center\">Febrero 28 de 2020</h1>\n",
    "</font>\n"
   ]
  },
  {
   "cell_type": "markdown",
   "metadata": {},
   "source": [
    "***\n",
    "\n",
    "> **Tutor:** Carlos Alberto Álvarez Henao, I.C. D.Sc.\n",
    "\n",
    "> **skype:** carlos.alberto.alvarez.henao\n",
    "\n",
    "> **Herramienta:** [Jupyter](http://jupyter.org/)\n",
    "\n",
    "> **Kernel:** Python 3.7\n",
    "\n",
    "\n",
    "***"
   ]
  },
  {
   "cell_type": "markdown",
   "metadata": {},
   "source": [
    "## Eliminación Gaussiana Simple"
   ]
  },
  {
   "cell_type": "markdown",
   "metadata": {},
   "source": [
    "A manera de ejemplo, vamos a construir un sistema de $5$ ecuaciones con $5$ incógnitas:\n",
    "\n",
    "\n",
    "$$a_{11}x_1 + a_{12}x_2 + a_{13}x_3 + a_{14}x_4 + a_{15}x_5 = b_1 \\hspace{1 cm} (ec. 1)$$\n",
    "\n",
    "$$a_{21}x_1 + a_{22}x_2 + a_{23}x_3 + a_{24}x_4 + a_{25}x_5 = b_2 \\hspace{1 cm} (ec. 2)$$\n",
    "\n",
    "$$a_{31}x_1 + a_{32}x_2 + a_{33}x_3 + a_{34}x_4 + a_{35}x_5 = b_3 \\hspace{1 cm} (ec. 3)$$\n",
    "\n",
    "$$a_{41}x_1 + a_{42}x_2 + a_{43}x_3 + a_{44}x_4 + a_{45}x_5 = b_4 \\hspace{1 cm} (ec. 4)$$\n",
    "\n",
    "$$a_{51}x_1 + a_{52}x_2 + a_{53}x_3 + a_{54}x_4 + a_{55}x_5 = b_5 \\hspace{1 cm} (ec. 5)$$"
   ]
  },
  {
   "cell_type": "markdown",
   "metadata": {},
   "source": [
    "El método de *Eliminación Gaussiana Simple* se descompone en:\n",
    "\n",
    "\n",
    "<strong>*Eliminación*:</strong> Dado el sistema 𝑨𝒙=𝒃 se realizan operaciones fundamentales de fila hasta obtener un sistema triangular superior equivalente 𝑼𝒙=𝑩"
   ]
  },
  {
   "cell_type": "markdown",
   "metadata": {},
   "source": [
    "- <strong>*Etapa $1$*:</strong> Convertir todos los elementos $a_{i1}=0$ seleccionando un multiplicador de forma adecuada, en este caso $M_{i1}=a_{i1}/a_{11}$ , y calcular la nueva $i$–ésima fila como: $F_i^{(nueva)}=F_{i}−M_{i1} \\times F_1$, con $2\\leq i \\leq n$. \n",
    "\n",
    "\n",
    "- <strong>*Etapa $2$*:</strong> Convertir todos los elementos $a_{i2}=0$ seleccionando un multiplicador de forma adecuada, en este caso $M_{i2}=a_{i2}/a_{22}$ , y calcular la nueva $i$–ésima fila como: $F_i^{(nueva)}=F_{i}−M_{i2} \\times F_2$, con $3\\leq i \\leq n$.\n",
    "\n",
    "\n",
    "- <strong>*Etapa $3$*:</strong> Convertir todos los elementos $a_{i3}=0$ seleccionando un multiplicador de forma adecuada, en este caso $M_{i3}=a_{i3}/a_{33}$ , y calcular la nueva $i$–ésima fila como: $F_i^{(nueva)}=F_{i}−M_{i3} \\times F_3$, con $4\\leq i \\leq n$.\n",
    "\n",
    "\n",
    "- $\\vdots$"
   ]
  },
  {
   "cell_type": "markdown",
   "metadata": {},
   "source": [
    "$$\\begin{matrix} \n",
    "a_{11}x_1 &+& a_{12}x_2 &+& a_{13}x_3 &+& a_{14}x_4 &+& a_{15}x_5 &=& b_1 \\\\ \n",
    "          & & a_{22}^{(1)}x_2 &+& a_{23}^{(1)}x_3 &+& a_{24}^{(1)}x_4 &+& a_{25}^{(1)}x_5 &=& b_2^{(1)} \\\\\n",
    "          & &           & & a_{33}^{(2)}x_3 &+& a_{34}^{(2)}x_4 &+& a_{35}^{(2)}x_5 &=& b_3^{(2)} \\\\\n",
    "          & &           & &           & & a_{44}^{(3)}x_4 &+& a_{45}^{(3)}x_5 &=& b_4^{(3)} \\\\\n",
    "          & &           & &           & &           & & a_{55}^{(4)}x_5 &=& b_5^{(4)} \\\\\n",
    "  \\end{matrix}$$\n"
   ]
  },
  {
   "cell_type": "markdown",
   "metadata": {},
   "source": [
    "<strong>*Sustitución Regresiva*</strong> del sistema triangular superior: se halla primero el valor de $𝑥_5$, con este valor se halla $𝑥_4$, con estos dos valores se halla $𝑥_3$ y así sucesivamente hasta obtener el valor de $𝑥_1$."
   ]
  },
  {
   "cell_type": "markdown",
   "metadata": {},
   "source": [
    "$$\\begin{matrix} \n",
    "x_5 &=& \\frac{b_5^{(4)}}{a_{55}^{(4)}}\\\\\n",
    "x_4 &=& \\frac{b_4^{(3)}-a_{45}^{(3)}x_5}{a_{44}^{(3)}} \\\\\n",
    "x_3 &=& \\frac{b_3^{(2)}-a_{34}^{(2)}x_4 - a_{35}^{(2)}x_5}{a_{33}^{(2)}} \\\\\n",
    "x_2 &=& \\frac{b_2^{(1)}-a_{23}^{(1)}x_3 - a_{24}^{(1)}x_4 - a_{25}^{(1)}x_5 }{a_{22}^{(1)}} \\\\\n",
    "x_1 &=& \\frac{b_1 - a_{12}x_2 - a_{13}x_3 - a_{14}x_4 - a_{15}x_5 }{a_{11}} \\\\ \n",
    "  \\end{matrix}$$\n"
   ]
  },
  {
   "cell_type": "markdown",
   "metadata": {},
   "source": [
    "De forma general, se puede expresar este procedimiento matemáticamente así:"
   ]
  },
  {
   "cell_type": "markdown",
   "metadata": {},
   "source": [
    "$$x_i=\\frac{b_i-\\sum_{j=i+1}^{n}a_{ij}x_j}{a_{ii}} \\hspace{1 cm}(i = n, n-1, \\ldots, 2,1)$$\n",
    "\n"
   ]
  },
  {
   "cell_type": "markdown",
   "metadata": {},
   "source": [
    "### Ejemplo:\n",
    "\n",
    "Resolver el sistema $4 \\times 4$:\n",
    "\n",
    "$$6x_1  - 2x_2  + 2x_3 +  4x_4 = 12$$\n",
    "\n",
    "$$12x_1 - 8x_2  + 6x_3 + 10x_4 = 34$$\n",
    "\n",
    "$$3x_1  - 13x_2 + 9x_3 + 3x_4  = 27$$\n",
    "\n",
    "$$-6x_1 + 4x_2  +  x_3 - 18x_4 = -38$$"
   ]
  },
  {
   "cell_type": "markdown",
   "metadata": {},
   "source": [
    "<strong>*Eliminación*:</strong>\n",
    "\n",
    "- <strong>*Etapa $1$*:</strong> Convertir en ceros todos los elementos de la columna $1$ debajo del elemento pivote $(a_{11}=6)$, seleccionando un multiplicador para cada fila, de forma adecuada. En este caso:\n",
    "\n",
    "> $M_{21}=a_{21}/a_{11}=12/6 = 2$\n",
    "\n",
    "> $M_{31}=a_{31}/a_{11}=3/6 = 1/2$ \n",
    "\n",
    "> $M_{41}=a_{41}/a_{11}=-6/6 = -1$ \n",
    "\n",
    "\n",
    "y calcular:\n",
    "\n",
    "> la nueva $2$a fila como: $F_2^{(nueva)}=F_{2}− M_{21} F_1 = F_{2}− 2 F_1$. \n",
    "\n",
    "> la nueva $3$a fila como: $F_3^{(nueva)}=F_{3}− M_{31} F_1 = F_{3}− F_1/2$. \n",
    "\n",
    "> la nueva $4$a fila como: $F_4^{(nueva)}=F_{4}- M_{41} F_1 = F_{4}- (-1)F_1 = F_{4} + F_1$. \n"
   ]
  },
  {
   "cell_type": "markdown",
   "metadata": {},
   "source": [
    "$$\\begin{matrix} \n",
    "6x_1 &-&  2x_2 &+& 2x_3 &+&  4x_4 &=& 12 \\\\ \n",
    "  0  &-&  4x_2 &+& 2x_3 &+&  2x_4 &=& 10 \\\\\n",
    "  0  &-& 12x_2 &+& 8x_3 &+&   x_4 &=& 21 \\\\\n",
    "  0  & &  2x_2 &+& 3x_3 &-& 14x_4 &=& -26\\\\\n",
    "  \\end{matrix}$$\n"
   ]
  },
  {
   "cell_type": "markdown",
   "metadata": {},
   "source": [
    "- <strong>*Etapa $2$*:</strong> Convertir en ceros todos los elementos de la columna $2$ debajo del elemento pivote $(a_{22}=-4)$, seleccionando un multiplicador para cada fila, de forma adecuada. En este caso:\n",
    "\n",
    "> $M_{32}=a_{32}/a_{22}=-12/-4 = 3$ \n",
    "\n",
    "> $M_{42}=a_{42}/a_{22}= 2/-4 = -1/2$ \n",
    "\n",
    "y calcular \n",
    "\n",
    "> la nueva $3$a fila como: $F_3^{(nueva)}=F_{3}−3 F_2$. \n",
    "\n",
    "> la nueva $4$a fila como: $F_4^{(nueva)}=F_{4}+ F_2/2$. \n"
   ]
  },
  {
   "cell_type": "markdown",
   "metadata": {},
   "source": [
    "$$\\begin{matrix} \n",
    "6x_1 &-&  2x_2 &+& 2x_3 &+&  4x_4 &=& 12 \\\\ \n",
    "  0  &-&  4x_2 &+& 2x_3 &+&  2x_4 &=& 10 \\\\\n",
    "  0  & &    0  & & 2x_3 &-&  5x_4 &=& -9 \\\\\n",
    "  0  & &    0  & & 4x_3 &-& 13x_4 &=& -21\\\\\n",
    "  \\end{matrix}$$"
   ]
  },
  {
   "cell_type": "markdown",
   "metadata": {},
   "source": [
    "- <strong>*Etapa $3$*:</strong> Convertir en ceros todos los elementos de la columna $3$ debajo del elemento pivote $(a_{33}=2)$, seleccionando un multiplicador de forma adecuada. En este caso:\n",
    "\n",
    "> $M_{43}=a_{43}/a_{33}=4/2 = 2$ \n",
    "\n",
    "y calcular la nueva $4$a fila como: $F_4^{(nueva)}=F_{4}−2 F_3$. "
   ]
  },
  {
   "cell_type": "markdown",
   "metadata": {},
   "source": [
    "$$\\begin{matrix} \n",
    "6x_1 &-&  2x_2 &+& 2x_3 &+&  4x_4 &=& 12 \\\\ \n",
    "  0  &-&  4x_2 &+& 2x_3 &+&  2x_4 &=& 10 \\\\\n",
    "  0  & &    0  & & 2x_3 &-&  5x_4 &=& -9 \\\\\n",
    "  0  & &    0  & &  0   &-&  3x_4 &=& -3 \\\\\n",
    "  \\end{matrix}$$"
   ]
  },
  {
   "cell_type": "markdown",
   "metadata": {},
   "source": [
    "Se observa que el sistema resultante es triangular superior.\n",
    "\n",
    "Por último, aplicando el algoritmo de la *sustitución regresiva*:"
   ]
  },
  {
   "cell_type": "markdown",
   "metadata": {},
   "source": [
    "$$\\begin{matrix} \n",
    "x_4 &=& \\frac{-3}{3}= 1\\\\\n",
    "x_3 &=& \\frac{-9+5 \\times 1}{2} = -2 \\\\\n",
    "x_2 &=& \\frac{10-2(2)-2(1)}{-4} = -3\\\\\n",
    "x_1 &=& \\frac{12+2(-3)-2(-2)-4(1)}{6}=1\\\\\n",
    "\\end{matrix}$$\n"
   ]
  },
  {
   "cell_type": "markdown",
   "metadata": {},
   "source": [
    "Vamos a resolver el problema usando programación en el lenguaje Python"
   ]
  },
  {
   "cell_type": "code",
   "execution_count": 1,
   "metadata": {
    "collapsed": true
   },
   "outputs": [],
   "source": [
    "import numpy as np\n",
    "import matplotlib.pyplot as plt"
   ]
  },
  {
   "cell_type": "markdown",
   "metadata": {},
   "source": [
    "usando los algoritmos vistos:"
   ]
  },
  {
   "cell_type": "markdown",
   "metadata": {},
   "source": [
    "Lea 𝑨,𝒃\n",
    "\n",
    "𝑼,𝑩←𝐸𝑙𝑖𝑚𝑖𝑛𝑎𝑐𝑖ó𝑛(𝑨,𝒃)\n",
    "\n",
    "𝒙←𝐷𝑒𝑠𝑝𝑒𝑗𝑒(𝑼,𝑩)\n",
    "\n",
    "Imprima 𝒙"
   ]
  },
  {
   "cell_type": "markdown",
   "metadata": {},
   "source": [
    "Generando la matriz de coeficientes A:"
   ]
  },
  {
   "cell_type": "code",
   "execution_count": 2,
   "metadata": {
    "collapsed": true
   },
   "outputs": [],
   "source": [
    "A = np.array([[ 6., - 2, 2,   4],\n",
    "              [12, - 8, 6,  10],\n",
    "              [ 3, -13, 9,   3],\n",
    "              [-6,   4, 1, -18]])\n",
    "#print(A)"
   ]
  },
  {
   "cell_type": "code",
   "execution_count": 3,
   "metadata": {
    "collapsed": true
   },
   "outputs": [],
   "source": [
    "b = np.array([12., 34, 27, -38])\n",
    "#print(b)"
   ]
  },
  {
   "cell_type": "markdown",
   "metadata": {},
   "source": [
    "#### Creando la matriza aumentada [A|b]"
   ]
  },
  {
   "cell_type": "code",
   "execution_count": 4,
   "metadata": {
    "collapsed": true
   },
   "outputs": [],
   "source": [
    "Ab = np.c_[A,b]\n",
    "#Ab\n",
    "#np.shape(Ab)"
   ]
  },
  {
   "cell_type": "markdown",
   "metadata": {},
   "source": [
    "#### Proceso de *eliminación*"
   ]
  },
  {
   "cell_type": "code",
   "execution_count": 5,
   "metadata": {},
   "outputs": [
    {
     "name": "stdout",
     "output_type": "stream",
     "text": [
      "\n",
      "\n",
      "Etapa 1 Eliminación columna:  1 \n",
      "\n",
      "\n",
      " [[  6.  -2.   2.   4.  12.]\n",
      " [  0.  -4.   2.   2.  10.]\n",
      " [  3. -13.   9.   3.  27.]\n",
      " [ -6.   4.   1. -18. -38.]]\n",
      "\n",
      " [[  6.  -2.   2.   4.  12.]\n",
      " [  0.  -4.   2.   2.  10.]\n",
      " [  0. -12.   8.   1.  21.]\n",
      " [ -6.   4.   1. -18. -38.]]\n",
      "\n",
      " [[  6.  -2.   2.   4.  12.]\n",
      " [  0.  -4.   2.   2.  10.]\n",
      " [  0. -12.   8.   1.  21.]\n",
      " [  0.   2.   3. -14. -26.]]\n",
      "\n",
      "\n",
      "Etapa 2 Eliminación columna:  2 \n",
      "\n",
      "\n",
      " [[  6.  -2.   2.   4.  12.]\n",
      " [  0.  -4.   2.   2.  10.]\n",
      " [  0.   0.   2.  -5.  -9.]\n",
      " [  0.   2.   3. -14. -26.]]\n",
      "\n",
      " [[  6.  -2.   2.   4.  12.]\n",
      " [  0.  -4.   2.   2.  10.]\n",
      " [  0.   0.   2.  -5.  -9.]\n",
      " [  0.   0.   4. -13. -21.]]\n",
      "\n",
      "\n",
      "Etapa 3 Eliminación columna:  3 \n",
      "\n",
      "\n",
      " [[  6.  -2.   2.   4.  12.]\n",
      " [  0.  -4.   2.   2.  10.]\n",
      " [  0.   0.   2.  -5.  -9.]\n",
      " [  0.   0.   0.  -3.  -3.]]\n"
     ]
    }
   ],
   "source": [
    "n = A.shape[1]\n",
    "\n",
    "for k in range(0,n-1):\n",
    "    print(\"\\n\\nEtapa\", k+1, \"Eliminación columna: \", k+1, \"\\n\")\n",
    "    for i in range(k+1, n):\n",
    "        multiplicador = Ab[i][k]/Ab[k][k]\n",
    "        for j in range(k, n+1):\n",
    "            Ab[i][j] = Ab[i][j] - multiplicador * Ab[k][j]\n",
    "        print(\"\\n\",Ab)"
   ]
  },
  {
   "cell_type": "code",
   "execution_count": null,
   "metadata": {
    "collapsed": true
   },
   "outputs": [],
   "source": [
    "print(Ab)\n",
    "print(n)\n",
    "print(k)\n",
    "\n",
    "for l in range(0,n-1):\n",
    "    print(\"\\n\\nEtapa\", l+k+1, \"Eliminación columna: \", l+n, \"\\n\")\n",
    "    for i in range(n):\n",
    "        multiplicador = Ab[i][n-1]/Ab[n-1][n-1]\n",
    "        print(multiplicador)\n",
    "        for j in range(n,0,-1):\n",
    "            Ab[i][j] = Ab[i][j] - multiplicador * Ab[l][j]\n",
    "        print(\"\\n\",Ab)"
   ]
  },
  {
   "cell_type": "markdown",
   "metadata": {},
   "source": [
    "#### Proceso de Sustitución regresiva:"
   ]
  },
  {
   "cell_type": "code",
   "execution_count": 6,
   "metadata": {},
   "outputs": [
    {
     "name": "stdout",
     "output_type": "stream",
     "text": [
      "[ 1. -3. -2.  1.]\n"
     ]
    }
   ],
   "source": [
    "x = np.zeros(n)\n",
    "x[n-1] = Ab[n-1][n] / Ab[n-1][n-1]\n",
    "for i in range(n-2,-1,-1):\n",
    "    suma = 0\n",
    "    for j in range(i+1, n):\n",
    "        suma = suma + Ab[i][j] * x[j]\n",
    "    x[i] = (Ab[i][n] - suma) / Ab[i][i]\n",
    "\n",
    "print(x)"
   ]
  },
  {
   "cell_type": "markdown",
   "metadata": {},
   "source": [
    "Resolviendo el SEL por el método que incorpora python por defecto:"
   ]
  },
  {
   "cell_type": "code",
   "execution_count": 7,
   "metadata": {},
   "outputs": [
    {
     "name": "stdout",
     "output_type": "stream",
     "text": [
      "[ 1. -3. -2.  1.]\n"
     ]
    }
   ],
   "source": [
    "x = np.linalg.solve(A,b)\n",
    "print(x)"
   ]
  },
  {
   "cell_type": "markdown",
   "metadata": {},
   "source": [
    "Comprobando que la solución es correcta:\n",
    "\n",
    "$$\\begin{bmatrix} A \\end{bmatrix} \\begin{Bmatrix} x \\end{Bmatrix}  = \\begin{Bmatrix} b \\end{Bmatrix}$$"
   ]
  },
  {
   "cell_type": "code",
   "execution_count": 8,
   "metadata": {},
   "outputs": [
    {
     "data": {
      "text/plain": [
       "array([ True,  True, False,  True], dtype=bool)"
      ]
     },
     "execution_count": 8,
     "metadata": {},
     "output_type": "execute_result"
    }
   ],
   "source": [
    "A.dot(x) == b"
   ]
  },
  {
   "cell_type": "code",
   "execution_count": 9,
   "metadata": {},
   "outputs": [
    {
     "name": "stdout",
     "output_type": "stream",
     "text": [
      "[ 12.  34.  27. -38.]\n"
     ]
    }
   ],
   "source": [
    "print(A.dot(x))"
   ]
  },
  {
   "cell_type": "code",
   "execution_count": 10,
   "metadata": {},
   "outputs": [
    {
     "name": "stdout",
     "output_type": "stream",
     "text": [
      "[ 12.  34.  27. -38.]\n"
     ]
    }
   ],
   "source": [
    "print(b)"
   ]
  },
  {
   "cell_type": "markdown",
   "metadata": {
    "collapsed": true
   },
   "source": [
    "## Método de Gauss - Jordan"
   ]
  },
  {
   "cell_type": "markdown",
   "metadata": {
    "collapsed": true
   },
   "source": [
    "El método de *Gauss - Jordan* consiste básicamente en continuar con el proceso de eliminación hasta obtener una matriz diagonal (únicamente tiene elementos diferentes de cero en la diagonal principal)"
   ]
  },
  {
   "cell_type": "markdown",
   "metadata": {},
   "source": [
    "$$\\begin{matrix} \n",
    "a_{11}^{(7)}x_1 & &    0       & &   0       & &  0         &=& b_{1}^{(7)}  \\\\ \n",
    "  0       & &  a_{22}^{(6)}x_2 & &   0       & &  0         &=& b_{2}^{(6)} \\\\\n",
    "  0       & &    0       & & a_{33}^{(5)}x_3 & &  0         &=& b_{3}^{(5)} \\\\\n",
    "  0       & &    0       & &   0       & &  a_{44}^{(4)}x_4 &=& b_{4}^{(4)} \\\\\n",
    "  \\end{matrix}$$"
   ]
  },
  {
   "cell_type": "markdown",
   "metadata": {},
   "source": [
    "La solución del sistema es \"inmediata\":"
   ]
  },
  {
   "cell_type": "markdown",
   "metadata": {},
   "source": [
    "$$\\begin{matrix} \n",
    "x_1 &=& \\frac{b_{1}^{(7)}}{a_{11}^{(7)}}  \\\\ \n",
    "x_2 &=& \\frac{b_{2}^{(7)}}{a_{22}^{(6)}}  \\\\ \n",
    "x_3 &=& \\frac{b_{3}^{(7)}}{a_{33}^{(5)}}  \\\\ \n",
    "x_4 &=& \\frac{b_{4}^{(7)}}{a_{44}^{(4)}}  \\\\ \n",
    "\\end{matrix}$$"
   ]
  },
  {
   "cell_type": "markdown",
   "metadata": {},
   "source": [
    "Continuando con el ejemplo anterior:"
   ]
  },
  {
   "cell_type": "markdown",
   "metadata": {},
   "source": [
    "$$\\begin{matrix} \n",
    "6x_1 &-&  2x_2 &+& 2x_3 &+&  4x_4 &=& 12 \\\\ \n",
    "  0  &-&  4x_2 &+& 2x_3 &+&  2x_4 &=& 10 \\\\\n",
    "  0  & &    0  & & 2x_3 &-&  5x_4 &=& -9 \\\\\n",
    "  0  & &    0  & &  0   &-&  3x_4 &=& -3 \\\\\n",
    "  \\end{matrix}$$"
   ]
  },
  {
   "cell_type": "markdown",
   "metadata": {},
   "source": [
    "Se emplea el mismo algoritmo que se venía utilizando, pero ahora se empezará desde la columna $4$, fila $1$, y se eliminan todos los elementos hasta el elemento que está encima del elemento pivote. Una vez eliminados todos los elementos encima del pivote, se continua con la columna $3$ y así sucesivamente hasta la columna $2$."
   ]
  },
  {
   "cell_type": "markdown",
   "metadata": {},
   "source": [
    "- <strong>*Etapa $4$*:</strong> Convertir en ceros todos los elementos de la columna $4$ encima del elemento pivote $(a_{44}=-3)$, seleccionando un multiplicador para cada fila, de forma adecuada. En este caso:\n",
    "\n",
    "> $M_{14} = a_{14}/a_{44} =  4/(-3)$\n",
    "\n",
    "> $M_{24} = a_{24}/a_{44} =  2/(-3)$ \n",
    "\n",
    "> $M_{34} = a_{34}/a_{44} = -5/(-3)$ \n",
    "\n",
    "\n",
    "y calcular:\n",
    "\n",
    "> la nueva $1$a fila como: $F_1^{(nueva)}=F_{1}− M_{14} F_4 = F_{1} + 4/3 F_4$. \n",
    "\n",
    "> la nueva $2$a fila como: $F_2^{(nueva)}=F_{2}− M_{24} F_4 = F_{2} + 2/3 F_4$. \n",
    "\n",
    "> la nueva $3$a fila como: $F_3^{(nueva)}=F_{3}- M_{34} F_4 = F_{3} - 5/3 F_4 $. "
   ]
  },
  {
   "cell_type": "markdown",
   "metadata": {},
   "source": [
    "$$\\begin{matrix} \n",
    "6x_1 &-&  2x_2 &+& 2x_3 & &     0 &=&  8 \\\\ \n",
    "  0  &-&  4x_2 &+& 2x_3 & &     0 &=&  8 \\\\\n",
    "  0  & &    0  & & 2x_3 & &     0 &=& -4 \\\\\n",
    "  0  & &    0  & &  0   &-&  3x_4 &=& -3 \\\\\n",
    "  \\end{matrix}$$"
   ]
  },
  {
   "cell_type": "markdown",
   "metadata": {},
   "source": [
    "- <strong>*Etapa $5$*:</strong> Convertir en ceros todos los elementos de la columna $3$ encima del elemento pivote $(a_{33}=2)$, seleccionando un multiplicador para cada fila, de forma adecuada. En este caso:\n",
    "\n",
    "> $M_{13} = a_{13}/a_{33} = 2/2 = 1$ \n",
    "\n",
    "> $M_{23} = a_{23}/a_{33} = 2/2 = 1$ \n",
    "\n",
    "y calcular \n",
    "\n",
    "> la nueva $1$a fila como: $F_1^{(nueva)} = F_{1} − F_3$. \n",
    "\n",
    "> la nueva $2$a fila como: $F_2^{(nueva)} = F_{2} - F_3$. \n"
   ]
  },
  {
   "cell_type": "markdown",
   "metadata": {},
   "source": [
    "$$\\begin{matrix} \n",
    "6x_1 &-&  2x_2 & & 0    & &     0 &=&  12 \\\\ \n",
    "  0  &-&  4x_2 & & 0    & &     0 &=&  12 \\\\\n",
    "  0  & &    0  & & 2x_3 & &     0 &=& -4 \\\\\n",
    "  0  & &    0  & &  0   &-&  3x_4 &=& -3 \\\\\n",
    "  \\end{matrix}$$"
   ]
  },
  {
   "cell_type": "markdown",
   "metadata": {},
   "source": [
    "- <strong>*Etapa $6$*:</strong> Convertir en ceros todos los elementos de la columna $2$ encima del elemento pivote $(a_{22}=-4)$, seleccionando un multiplicador de forma adecuada. En este caso:\n",
    "\n",
    "> $M_{12} = a_{12}/a_{22} = -2/-4 = 1/2$ \n",
    "\n",
    "y calcular la nueva $1$a fila como: $F_1^{(nueva)}=F_{1}− F_2/2$. "
   ]
  },
  {
   "cell_type": "markdown",
   "metadata": {},
   "source": [
    "$$\\begin{matrix} \n",
    "6x_1 & &     0 & & 0    & &     0 &=&  6 \\\\ \n",
    "  0  &-&  4x_2 & & 0    & &     0 &=&  12 \\\\\n",
    "  0  & &    0  & & 2x_3 & &     0 &=& -4 \\\\\n",
    "  0  & &    0  & &  0   &-&  3x_4 &=& -3 \\\\\n",
    "  \\end{matrix}$$"
   ]
  },
  {
   "cell_type": "markdown",
   "metadata": {},
   "source": [
    "La solución es inmediata:"
   ]
  },
  {
   "cell_type": "markdown",
   "metadata": {},
   "source": [
    "$$\\begin{matrix} \n",
    "x_1 &=& \\frac{6}{6} &=& 1 \\\\ \n",
    "x_2 &=& \\frac{12}{-4} &=& -3  \\\\ \n",
    "x_3 &=& \\frac{-4}{-2} &=& -2  \\\\ \n",
    "x_4 &=& \\frac{-3}{-3} &=& 1  \\\\ \n",
    "\\end{matrix}$$"
   ]
  },
  {
   "cell_type": "markdown",
   "metadata": {},
   "source": [
    "Continuando con el programa:"
   ]
  },
  {
   "cell_type": "code",
   "execution_count": null,
   "metadata": {
    "collapsed": true
   },
   "outputs": [],
   "source": [
    "print(Ab)"
   ]
  },
  {
   "cell_type": "code",
   "execution_count": null,
   "metadata": {
    "collapsed": true
   },
   "outputs": [],
   "source": []
  }
 ],
 "metadata": {
  "anaconda-cloud": {},
  "kernelspec": {
   "display_name": "Python 3",
   "language": "python",
   "name": "python3"
  },
  "language_info": {
   "codemirror_mode": {
    "name": "ipython",
    "version": 3
   },
   "file_extension": ".py",
   "mimetype": "text/x-python",
   "name": "python",
   "nbconvert_exporter": "python",
   "pygments_lexer": "ipython3",
   "version": "3.7.1"
  },
  "latex_envs": {
   "LaTeX_envs_menu_present": true,
   "autocomplete": true,
   "bibliofile": "biblio.bib",
   "cite_by": "apalike",
   "current_citInitial": 1,
   "eqLabelWithNumbers": true,
   "eqNumInitial": 1,
   "hotkeys": {
    "equation": "Ctrl-E",
    "itemize": "Ctrl-I"
   },
   "labels_anchors": false,
   "latex_user_defs": false,
   "report_style_numbering": true,
   "user_envs_cfg": true
  }
 },
 "nbformat": 4,
 "nbformat_minor": 2
}
